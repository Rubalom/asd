{
 "cells": [
  {
   "cell_type": "code",
   "execution_count": 1,
   "metadata": {},
   "outputs": [],
   "source": [
    "names = [\"Ling\",\n",
    "\"Shang the Monk\",\n",
    "\"Kate\",\n",
    "\"Marcus\",\n",
    "\"Ironclad\",\n",
    "\"Hong-Joo\",\n",
    "\"Fireguard\",\n",
    "\"Kibo\",\n",
    "\"Helga\",\n",
    "\"Sarge\",\n",
    "\"Azuma\",\n",
    "\"Midnight\",\n",
    "\"Yukka and Shade\",\n",
    "\"Jack Bulwark\",\n",
    "\"Jet\",\n",
    "\"Emperor\",\n",
    "\"Lynx\",\n",
    "\"Monkey King\",\n",
    "\"Cobra\",\n",
    "\"Legion King\"\n",
    "        ]\n",
    "\n",
    "letters = [\"A\", \"B\", \"C\", \"D\", \"E\", \"F\", \"G\", \"H\", \"I\", \"J\", \"K\", \"L\", \"M\", \"N\", \"O\", \"P\", \"Q\", \"R\", \"S\", \"T\", \"U\", \"V\", \"W\", \"X\", \"Y\", \"Z\"]\n",
    "cols = letters.copy()\n",
    "for i in range(len(letters)):\n",
    "    for j in range(len(letters)):\n",
    "        cols.append(letters[i] + letters[j])\n",
    "        \n",
    "skip = [\"11.0\", \"12.0\", \"13.0\"]\n",
    "#skip = [\"13.0\"]"
   ]
  },
  {
   "cell_type": "code",
   "execution_count": 2,
   "metadata": {},
   "outputs": [],
   "source": [
    "import xlrd\n",
    "import xlsxwriter\n",
    "import pandas as pd\n",
    "\n",
    "wbRD = xlrd.open_workbook(\"BalanceSource/Balance1_4_10_10.xlsx\")\n",
    "sheets = wbRD.sheets()\n",
    "\n",
    "xlsxwriter = pd.ExcelWriter('BalanceResult/BalanceResult1_4_10_10.xlsx', engine='xlsxwriter')\n",
    "wb = xlsxwriter.book"
   ]
  },
  {
   "cell_type": "code",
   "execution_count": 3,
   "metadata": {},
   "outputs": [],
   "source": [
    "ws = wb.add_worksheet(\"Result\")"
   ]
  },
  {
   "cell_type": "code",
   "execution_count": 4,
   "metadata": {},
   "outputs": [],
   "source": [
    "prevPatch = '1.3.20.70'"
   ]
  },
  {
   "cell_type": "code",
   "execution_count": 5,
   "metadata": {},
   "outputs": [],
   "source": [
    "def WriteNames(sheet, prows, pcols):\n",
    "    for i in range(len(names)):\n",
    "        ws.write(prows + i, pcols, names[i])\n",
    "\n",
    "def OperateHero(sheet, heroName, startRow, prows, pcols):\n",
    "    strong = 0\n",
    "    weak = 0\n",
    "    for row in reversed(range(1, startRow + 1)):\n",
    "        if sheet.cell(row, 1).value != heroName or row == 1:\n",
    "            r = prows + names.index(heroName)\n",
    "            ws.write(r, pcols + 2, strong)\n",
    "            ws.write(r, pcols + 3, weak)\n",
    "            ws.write_formula(r, pcols + 1, '=' + cols[pcols] + str(r + 1) + ' - ' + prevPatch + '!' + cols[pcols] + str(r + 1))\n",
    "            break             \n",
    "        winRate = sheet.cell(row, 6).value\n",
    "        if sheet.cell(row, 3).value >= 100:\n",
    "            ws.write(prows + names.index(heroName), pcols, winRate)\n",
    "        if sheet.cell(row, 3).value >= 30:\n",
    "            if sheet.cell(row, 4).value > 0.56:\n",
    "                strong = strong + 1\n",
    "            if sheet.cell(row, 4).value < 0.44:\n",
    "                weak = weak + 1\n",
    "\n",
    "def OperateCategory(sheet, catName, startRow, prows, pcols):\n",
    "    i = 0\n",
    "    hero = \"\"\n",
    "    for row in reversed(range(1, startRow)):\n",
    "        if sheet.cell(row, 0).value != catName:\n",
    "            break        \n",
    "        if hero != sheet.cell(row, 1).value:\n",
    "            hero = sheet.cell(row, 1).value\n",
    "            OperateHero(sheet, hero, row, prows, pcols)\n",
    "            i = i + 1\n",
    "        \n",
    "def DoBalanceTable(sheet, padding):\n",
    "    WriteNames(sheet, padding + 8, 0)\n",
    "    categories = []\n",
    "    i = 0\n",
    "    catName = \"\"\n",
    "    for row in reversed(range(1, sheet.nrows)):\n",
    "        if catName != sheet.cell(row, 0).value:\n",
    "            categories.append(row)\n",
    "            catName = sheet.cell(row, 0).value\n",
    "            if not str(catName) in skip:\n",
    "                OperateCategory(sheet, catName, row, 8 + padding, 1 + 4*i)\n",
    "                i = i + 1\n",
    "    return categories\n"
   ]
  },
  {
   "cell_type": "code",
   "execution_count": 6,
   "metadata": {},
   "outputs": [],
   "source": [
    "def WorstMatchups(sheet, catName, prows, pcols):\n",
    "    data = []\n",
    "    i = 0\n",
    "    for row in range(sheet.nrows):\n",
    "        if catName != sheet.cell(row, 0).value:\n",
    "            continue\n",
    "        i = i + 1\n",
    "        data.append([sheet.cell(row, 1).value, sheet.cell(row, 2).value, sheet.cell(row, 4).value])\n",
    "    df = pd.DataFrame(data, columns = ['Winner', 'Loser', 'Winrate'])\n",
    "    df.sort_values(by=['Winrate'], inplace=True)\n",
    "    xlsxwriter.sheets['Result'] = ws\n",
    "    df.to_excel(xlsxwriter, sheet_name='Result', startrow=prows, startcol=pcols, index=False)\n",
    "        "
   ]
  },
  {
   "cell_type": "code",
   "execution_count": 7,
   "metadata": {
    "scrolled": false
   },
   "outputs": [
    {
     "ename": "ValueError",
     "evalue": "'Legion King' is not in list",
     "output_type": "error",
     "traceback": [
      "\u001b[1;31m---------------------------------------------------------------------------\u001b[0m",
      "\u001b[1;31mValueError\u001b[0m                                Traceback (most recent call last)",
      "\u001b[1;32m<ipython-input-7-15bf38987381>\u001b[0m in \u001b[0;36m<module>\u001b[1;34m\u001b[0m\n\u001b[1;32m----> 1\u001b[1;33m \u001b[0mcategories1\u001b[0m \u001b[1;33m=\u001b[0m \u001b[0mDoBalanceTable\u001b[0m\u001b[1;33m(\u001b[0m\u001b[0msheets\u001b[0m\u001b[1;33m[\u001b[0m\u001b[1;36m0\u001b[0m\u001b[1;33m]\u001b[0m\u001b[1;33m,\u001b[0m \u001b[1;36m0\u001b[0m\u001b[1;33m)\u001b[0m\u001b[1;33m\u001b[0m\u001b[1;33m\u001b[0m\u001b[0m\n\u001b[0m\u001b[0;32m      2\u001b[0m \u001b[0mcategories2\u001b[0m \u001b[1;33m=\u001b[0m \u001b[0mDoBalanceTable\u001b[0m\u001b[1;33m(\u001b[0m\u001b[0msheets\u001b[0m\u001b[1;33m[\u001b[0m\u001b[1;36m1\u001b[0m\u001b[1;33m]\u001b[0m\u001b[1;33m,\u001b[0m \u001b[0mlen\u001b[0m\u001b[1;33m(\u001b[0m\u001b[0mnames\u001b[0m\u001b[1;33m)\u001b[0m \u001b[1;33m+\u001b[0m \u001b[1;36m10\u001b[0m\u001b[1;33m)\u001b[0m\u001b[1;33m\u001b[0m\u001b[1;33m\u001b[0m\u001b[0m\n\u001b[0;32m      3\u001b[0m \u001b[0mcategories3\u001b[0m \u001b[1;33m=\u001b[0m \u001b[0mDoBalanceTable\u001b[0m\u001b[1;33m(\u001b[0m\u001b[0msheets\u001b[0m\u001b[1;33m[\u001b[0m\u001b[1;36m2\u001b[0m\u001b[1;33m]\u001b[0m\u001b[1;33m,\u001b[0m \u001b[0mlen\u001b[0m\u001b[1;33m(\u001b[0m\u001b[0mnames\u001b[0m\u001b[1;33m)\u001b[0m\u001b[1;33m*\u001b[0m\u001b[1;36m2\u001b[0m \u001b[1;33m+\u001b[0m \u001b[1;36m8\u001b[0m \u001b[1;33m+\u001b[0m \u001b[1;36m10\u001b[0m\u001b[1;33m)\u001b[0m\u001b[1;33m\u001b[0m\u001b[1;33m\u001b[0m\u001b[0m\n\u001b[0;32m      4\u001b[0m \u001b[0mcategories4\u001b[0m \u001b[1;33m=\u001b[0m \u001b[0mDoBalanceTable\u001b[0m\u001b[1;33m(\u001b[0m\u001b[0msheets\u001b[0m\u001b[1;33m[\u001b[0m\u001b[1;36m3\u001b[0m\u001b[1;33m]\u001b[0m\u001b[1;33m,\u001b[0m \u001b[0mlen\u001b[0m\u001b[1;33m(\u001b[0m\u001b[0mnames\u001b[0m\u001b[1;33m)\u001b[0m\u001b[1;33m*\u001b[0m\u001b[1;36m3\u001b[0m \u001b[1;33m+\u001b[0m \u001b[1;36m10\u001b[0m \u001b[1;33m+\u001b[0m \u001b[1;36m8\u001b[0m \u001b[1;33m+\u001b[0m \u001b[1;36m10\u001b[0m\u001b[1;33m)\u001b[0m\u001b[1;33m\u001b[0m\u001b[1;33m\u001b[0m\u001b[0m\n",
      "\u001b[1;32m<ipython-input-5-f006deb3980b>\u001b[0m in \u001b[0;36mDoBalanceTable\u001b[1;34m(sheet, padding)\u001b[0m\n\u001b[0;32m     43\u001b[0m             \u001b[0mcatName\u001b[0m \u001b[1;33m=\u001b[0m \u001b[0msheet\u001b[0m\u001b[1;33m.\u001b[0m\u001b[0mcell\u001b[0m\u001b[1;33m(\u001b[0m\u001b[0mrow\u001b[0m\u001b[1;33m,\u001b[0m \u001b[1;36m0\u001b[0m\u001b[1;33m)\u001b[0m\u001b[1;33m.\u001b[0m\u001b[0mvalue\u001b[0m\u001b[1;33m\u001b[0m\u001b[1;33m\u001b[0m\u001b[0m\n\u001b[0;32m     44\u001b[0m             \u001b[1;32mif\u001b[0m \u001b[1;32mnot\u001b[0m \u001b[0mstr\u001b[0m\u001b[1;33m(\u001b[0m\u001b[0mcatName\u001b[0m\u001b[1;33m)\u001b[0m \u001b[1;32min\u001b[0m \u001b[0mskip\u001b[0m\u001b[1;33m:\u001b[0m\u001b[1;33m\u001b[0m\u001b[1;33m\u001b[0m\u001b[0m\n\u001b[1;32m---> 45\u001b[1;33m                 \u001b[0mOperateCategory\u001b[0m\u001b[1;33m(\u001b[0m\u001b[0msheet\u001b[0m\u001b[1;33m,\u001b[0m \u001b[0mcatName\u001b[0m\u001b[1;33m,\u001b[0m \u001b[0mrow\u001b[0m\u001b[1;33m,\u001b[0m \u001b[1;36m8\u001b[0m \u001b[1;33m+\u001b[0m \u001b[0mpadding\u001b[0m\u001b[1;33m,\u001b[0m \u001b[1;36m1\u001b[0m \u001b[1;33m+\u001b[0m \u001b[1;36m4\u001b[0m\u001b[1;33m*\u001b[0m\u001b[0mi\u001b[0m\u001b[1;33m)\u001b[0m\u001b[1;33m\u001b[0m\u001b[1;33m\u001b[0m\u001b[0m\n\u001b[0m\u001b[0;32m     46\u001b[0m                 \u001b[0mi\u001b[0m \u001b[1;33m=\u001b[0m \u001b[0mi\u001b[0m \u001b[1;33m+\u001b[0m \u001b[1;36m1\u001b[0m\u001b[1;33m\u001b[0m\u001b[1;33m\u001b[0m\u001b[0m\n\u001b[0;32m     47\u001b[0m     \u001b[1;32mreturn\u001b[0m \u001b[0mcategories\u001b[0m\u001b[1;33m\u001b[0m\u001b[1;33m\u001b[0m\u001b[0m\n",
      "\u001b[1;32m<ipython-input-5-f006deb3980b>\u001b[0m in \u001b[0;36mOperateCategory\u001b[1;34m(sheet, catName, startRow, prows, pcols)\u001b[0m\n\u001b[0;32m     30\u001b[0m         \u001b[1;32mif\u001b[0m \u001b[0mhero\u001b[0m \u001b[1;33m!=\u001b[0m \u001b[0msheet\u001b[0m\u001b[1;33m.\u001b[0m\u001b[0mcell\u001b[0m\u001b[1;33m(\u001b[0m\u001b[0mrow\u001b[0m\u001b[1;33m,\u001b[0m \u001b[1;36m1\u001b[0m\u001b[1;33m)\u001b[0m\u001b[1;33m.\u001b[0m\u001b[0mvalue\u001b[0m\u001b[1;33m:\u001b[0m\u001b[1;33m\u001b[0m\u001b[1;33m\u001b[0m\u001b[0m\n\u001b[0;32m     31\u001b[0m             \u001b[0mhero\u001b[0m \u001b[1;33m=\u001b[0m \u001b[0msheet\u001b[0m\u001b[1;33m.\u001b[0m\u001b[0mcell\u001b[0m\u001b[1;33m(\u001b[0m\u001b[0mrow\u001b[0m\u001b[1;33m,\u001b[0m \u001b[1;36m1\u001b[0m\u001b[1;33m)\u001b[0m\u001b[1;33m.\u001b[0m\u001b[0mvalue\u001b[0m\u001b[1;33m\u001b[0m\u001b[1;33m\u001b[0m\u001b[0m\n\u001b[1;32m---> 32\u001b[1;33m             \u001b[0mOperateHero\u001b[0m\u001b[1;33m(\u001b[0m\u001b[0msheet\u001b[0m\u001b[1;33m,\u001b[0m \u001b[0mhero\u001b[0m\u001b[1;33m,\u001b[0m \u001b[0mrow\u001b[0m\u001b[1;33m,\u001b[0m \u001b[0mprows\u001b[0m\u001b[1;33m,\u001b[0m \u001b[0mpcols\u001b[0m\u001b[1;33m)\u001b[0m\u001b[1;33m\u001b[0m\u001b[1;33m\u001b[0m\u001b[0m\n\u001b[0m\u001b[0;32m     33\u001b[0m             \u001b[0mi\u001b[0m \u001b[1;33m=\u001b[0m \u001b[0mi\u001b[0m \u001b[1;33m+\u001b[0m \u001b[1;36m1\u001b[0m\u001b[1;33m\u001b[0m\u001b[1;33m\u001b[0m\u001b[0m\n\u001b[0;32m     34\u001b[0m \u001b[1;33m\u001b[0m\u001b[0m\n",
      "\u001b[1;32m<ipython-input-5-f006deb3980b>\u001b[0m in \u001b[0;36mOperateHero\u001b[1;34m(sheet, heroName, startRow, prows, pcols)\u001b[0m\n\u001b[0;32m      8\u001b[0m     \u001b[1;32mfor\u001b[0m \u001b[0mrow\u001b[0m \u001b[1;32min\u001b[0m \u001b[0mreversed\u001b[0m\u001b[1;33m(\u001b[0m\u001b[0mrange\u001b[0m\u001b[1;33m(\u001b[0m\u001b[1;36m1\u001b[0m\u001b[1;33m,\u001b[0m \u001b[0mstartRow\u001b[0m \u001b[1;33m+\u001b[0m \u001b[1;36m1\u001b[0m\u001b[1;33m)\u001b[0m\u001b[1;33m)\u001b[0m\u001b[1;33m:\u001b[0m\u001b[1;33m\u001b[0m\u001b[1;33m\u001b[0m\u001b[0m\n\u001b[0;32m      9\u001b[0m         \u001b[1;32mif\u001b[0m \u001b[0msheet\u001b[0m\u001b[1;33m.\u001b[0m\u001b[0mcell\u001b[0m\u001b[1;33m(\u001b[0m\u001b[0mrow\u001b[0m\u001b[1;33m,\u001b[0m \u001b[1;36m1\u001b[0m\u001b[1;33m)\u001b[0m\u001b[1;33m.\u001b[0m\u001b[0mvalue\u001b[0m \u001b[1;33m!=\u001b[0m \u001b[0mheroName\u001b[0m \u001b[1;32mor\u001b[0m \u001b[0mrow\u001b[0m \u001b[1;33m==\u001b[0m \u001b[1;36m1\u001b[0m\u001b[1;33m:\u001b[0m\u001b[1;33m\u001b[0m\u001b[1;33m\u001b[0m\u001b[0m\n\u001b[1;32m---> 10\u001b[1;33m             \u001b[0mr\u001b[0m \u001b[1;33m=\u001b[0m \u001b[0mprows\u001b[0m \u001b[1;33m+\u001b[0m \u001b[0mnames\u001b[0m\u001b[1;33m.\u001b[0m\u001b[0mindex\u001b[0m\u001b[1;33m(\u001b[0m\u001b[0mheroName\u001b[0m\u001b[1;33m)\u001b[0m\u001b[1;33m\u001b[0m\u001b[1;33m\u001b[0m\u001b[0m\n\u001b[0m\u001b[0;32m     11\u001b[0m             \u001b[0mws\u001b[0m\u001b[1;33m.\u001b[0m\u001b[0mwrite\u001b[0m\u001b[1;33m(\u001b[0m\u001b[0mr\u001b[0m\u001b[1;33m,\u001b[0m \u001b[0mpcols\u001b[0m \u001b[1;33m+\u001b[0m \u001b[1;36m2\u001b[0m\u001b[1;33m,\u001b[0m \u001b[0mstrong\u001b[0m\u001b[1;33m)\u001b[0m\u001b[1;33m\u001b[0m\u001b[1;33m\u001b[0m\u001b[0m\n\u001b[0;32m     12\u001b[0m             \u001b[0mws\u001b[0m\u001b[1;33m.\u001b[0m\u001b[0mwrite\u001b[0m\u001b[1;33m(\u001b[0m\u001b[0mr\u001b[0m\u001b[1;33m,\u001b[0m \u001b[0mpcols\u001b[0m \u001b[1;33m+\u001b[0m \u001b[1;36m3\u001b[0m\u001b[1;33m,\u001b[0m \u001b[0mweak\u001b[0m\u001b[1;33m)\u001b[0m\u001b[1;33m\u001b[0m\u001b[1;33m\u001b[0m\u001b[0m\n",
      "\u001b[1;31mValueError\u001b[0m: 'Legion King' is not in list"
     ]
    }
   ],
   "source": [
    "categories1 = DoBalanceTable(sheets[0], 0)\n",
    "categories2 = DoBalanceTable(sheets[1], len(names) + 10)\n",
    "categories3 = DoBalanceTable(sheets[2], len(names)*2 + 8 + 10)\n",
    "categories4 = DoBalanceTable(sheets[3], len(names)*3 + 10 + 8 + 10)"
   ]
  },
  {
   "cell_type": "code",
   "execution_count": null,
   "metadata": {},
   "outputs": [],
   "source": [
    "#WorstMatchups(sheets[0], sheets[0].cell(categories1[0],0).value, len(names)*4 + 45, 3)\n",
    "#WorstMatchups(sheets[1], sheets[1].cell(categories2[0],0).value, len(names)*4 + 45, 10 + 1)\n",
    "#WorstMatchups(sheets[3], sheets[3].cell(categories4[3],0).value, len(names)*4 + 45, 10 + 1)"
   ]
  },
  {
   "cell_type": "code",
   "execution_count": null,
   "metadata": {},
   "outputs": [],
   "source": [
    "wb.close()"
   ]
  },
  {
   "cell_type": "code",
   "execution_count": null,
   "metadata": {},
   "outputs": [],
   "source": []
  }
 ],
 "metadata": {
  "kernelspec": {
   "display_name": "Python 3",
   "language": "python",
   "name": "python3"
  },
  "language_info": {
   "codemirror_mode": {
    "name": "ipython",
    "version": 3
   },
   "file_extension": ".py",
   "mimetype": "text/x-python",
   "name": "python",
   "nbconvert_exporter": "python",
   "pygments_lexer": "ipython3",
   "version": "3.7.6"
  }
 },
 "nbformat": 4,
 "nbformat_minor": 4
}
