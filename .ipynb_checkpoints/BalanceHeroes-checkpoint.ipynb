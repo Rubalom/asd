{
 "cells": [
  {
   "cell_type": "code",
   "execution_count": 1,
   "metadata": {},
   "outputs": [],
   "source": [
    "names = [\"Ling\",\n",
    "\"Shang the Monk\",\n",
    "\"Kate\",\n",
    "\"Marcus\",\n",
    "\"Ironclad\",\n",
    "\"Hong-Joo\",\n",
    "\"Fireguard\",\n",
    "\"Kibo\",\n",
    "\"Helga\",\n",
    "\"Sarge\",\n",
    "\"Azuma\",\n",
    "\"Midnight\",\n",
    "\"Yukka and Shade\",\n",
    "\"Jack Bulwark\",\n",
    "\"Jet\",\n",
    "\"Emperor\",\n",
    "\"Lynx\",\n",
    "\"Monkey King\",\n",
    "\"Cobra\"\n",
    "        ]\n",
    "cols = [\"A\", \"B\", \"C\", \"D\", \"E\", \"F\", \"G\", \"H\", \"I\", \"J\", \"K\", \"L\", \"M\", \"N\", \"O\", \"P\", \"Q\", \"R\", \"S\", \"T\", \"U\", \"V\", \"W\", \"X\", \"Y\", \"Z\", \"AA\", \"AB\", \"AC\", \"AD\", \"AE\", \"AF\", \"AG\", \"AH\", \"AI\", \"AJ\", \"AK\", \"AL\", \"AM\", \"AN\", \"AO\", \"AP\", \"AQ\", \"AR\", \"AS\", \"AT\", \"AU\", \"AV\", \"AW\", \"AX\", \"AY\", \"AZ\"]\n",
    "skip = [\"11.0\", \"12.0\", \"13.0\"]"
   ]
  },
  {
   "cell_type": "code",
   "execution_count": 2,
   "metadata": {},
   "outputs": [],
   "source": [
    "import xlrd\n",
    "import xlsxwriter\n",
    "import pandas as pd\n",
    "\n",
    "wbRD = xlrd.open_workbook(\"BalanceSource/Balance1_2_10_7.xlsx\")\n",
    "sheets = wbRD.sheets()"
   ]
  },
  {
   "cell_type": "code",
   "execution_count": 3,
   "metadata": {},
   "outputs": [],
   "source": [
    "from openpyxl import workbook\n",
    "from openpyxl import load_workbook\n",
    "\n",
    "wb = load_workbook(\"BalanceHeroes/BalanceHeroes.xlsx\")"
   ]
  },
  {
   "cell_type": "code",
   "execution_count": 4,
   "metadata": {},
   "outputs": [],
   "source": [
    "prevPatch = '1.2.10'"
   ]
  },
  {
   "cell_type": "code",
   "execution_count": 5,
   "metadata": {},
   "outputs": [],
   "source": [
    "def WriteNames(sheet, prows, pcols):\n",
    "    for name in names:\n",
    "        for i in range(len(names)):\n",
    "            wb[name].cell(row = prows + i + 1 + p[names.index(name)], column = pcols + 1).value = names[i]\n",
    "\n",
    "def OperateHero(sheet, heroName, startRow, prows, pcols):\n",
    "    strong = 0\n",
    "    weak = 0\n",
    "    for row in reversed(range(1, startRow + 1)):\n",
    "        if sheet.cell(row, 1).value != heroName or row == 1:\n",
    "            break             \n",
    "        winRate = sheet.cell(row, 4).value\n",
    "        if sheet.cell(row, 3).value >= 30:\n",
    "            wb[heroName].cell(row = prows + names.index(sheet.cell(row, 2).value) + 1 + p[names.index(heroName)], column = pcols + 1).value = winRate\n",
    "    wb[heroName].cell(row = prows + names.index(heroName) + 1 + p[names.index(heroName)], column = pcols + 1).value = \"-\"\n",
    "\n",
    "def OperateCategory(sheet, catName, startRow, prows, pcols):\n",
    "    i = 0\n",
    "    hero = \"\"\n",
    "    for row in reversed(range(1, startRow)):\n",
    "        if sheet.cell(row, 0).value != catName:\n",
    "            break        \n",
    "        if hero != sheet.cell(row, 1).value:\n",
    "            hero = sheet.cell(row, 1).value\n",
    "            OperateHero(sheet, hero, row, prows, pcols)\n",
    "            i = i + 1\n",
    "        \n",
    "def DoBalanceTable(sheet, padding):\n",
    "    print(p)\n",
    "    WriteNames(sheet, padding, 0)\n",
    "    categories = []\n",
    "    i = 0\n",
    "    catName = \"\"\n",
    "    for row in reversed(range(1, sheet.nrows)):\n",
    "        if catName != sheet.cell(row, 0).value:\n",
    "            categories.append(row)\n",
    "            catName = sheet.cell(row, 0).value\n",
    "            if not str(catName) in skip:\n",
    "                OperateCategory(sheet, catName, row, padding, 1 + 2*i)\n",
    "                i = i + 1\n",
    "    return categories\n",
    "\n",
    "def FindPaddings(book):\n",
    "    p = []\n",
    "    for sheet in wb.worksheets:\n",
    "        i = 0\n",
    "        for cell in sheet['A']:\n",
    "            if cell.value == \"#WINRATES\":\n",
    "                p.append(i)\n",
    "                break\n",
    "            i = i + 1\n",
    "    return p"
   ]
  },
  {
   "cell_type": "code",
   "execution_count": 6,
   "metadata": {},
   "outputs": [
    {
     "name": "stdout",
     "output_type": "stream",
     "text": [
      "[1, 1, 1, 1, 1, 1, 1, 1, 1, 1, 1, 1, 1, 1, 1, 1, 1, 1, 1]\n"
     ]
    },
    {
     "data": {
      "text/plain": [
       "[2610, 2524, 2310, 2016, 1710, 1404, 1098, 796, 514, 254, 102, 28, 8]"
      ]
     },
     "execution_count": 6,
     "metadata": {},
     "output_type": "execute_result"
    }
   ],
   "source": [
    "p = FindPaddings(wb)\n",
    "DoBalanceTable(sheets[3], 0)"
   ]
  },
  {
   "cell_type": "code",
   "execution_count": 7,
   "metadata": {},
   "outputs": [],
   "source": [
    "wb.save(\"BalanceHeroes/BalanceHeroesNew.xlsx\") "
   ]
  }
 ],
 "metadata": {
  "kernelspec": {
   "display_name": "Python 3",
   "language": "python",
   "name": "python3"
  },
  "language_info": {
   "codemirror_mode": {
    "name": "ipython",
    "version": 3
   },
   "file_extension": ".py",
   "mimetype": "text/x-python",
   "name": "python",
   "nbconvert_exporter": "python",
   "pygments_lexer": "ipython3",
   "version": "3.7.6"
  }
 },
 "nbformat": 4,
 "nbformat_minor": 4
}
